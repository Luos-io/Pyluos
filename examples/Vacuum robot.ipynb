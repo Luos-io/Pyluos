{
 "cells": [
  {
   "cell_type": "code",
   "execution_count": null,
   "metadata": {},
   "outputs": [],
   "source": [
    "from pyrobus import Robot"
   ]
  },
  {
   "cell_type": "code",
   "execution_count": null,
   "metadata": {
    "collapsed": true
   },
   "outputs": [],
   "source": [
    "vacuum_robot = Robot('wifi_vacuum_robot.local')"
   ]
  },
  {
   "cell_type": "code",
   "execution_count": null,
   "metadata": {
    "collapsed": true
   },
   "outputs": [],
   "source": [
    "def forward():\n",
    "    vacuum_robot.servo_1.speed = 100\n",
    "    vacuum_robot.servo_2.speed = -100\n",
    "\n",
    "def stop():\n",
    "    vacuum_robot.servo_1.speed = 0\n",
    "    vacuum_robot.servo_2.speed = 0\n",
    "    \n",
    "def backward():\n",
    "    vacuum_robot.servo_1.speed = -100\n",
    "    vacuum_robot.servo_2.speed = 100"
   ]
  },
  {
   "cell_type": "code",
   "execution_count": null,
   "metadata": {
    "collapsed": true
   },
   "outputs": [],
   "source": [
    "def turn_left():\n",
    "    vacuum_robot.servo_1.speed = -100\n",
    "    vacuum_robot.servo_2.speed = -100\n",
    "\n",
    "def turn_right():\n",
    "    vacuum_robot.servo_1.speed = 100\n",
    "    vacuum_robot.servo_2.speed = 100"
   ]
  },
  {
   "cell_type": "code",
   "execution_count": null,
   "metadata": {
    "collapsed": true
   },
   "outputs": [],
   "source": [
    "def obstacle_right():\n",
    "    return vacuum_robot.dist_2.distance > 35\n",
    "    \n",
    "def obstacle_left():\n",
    "    return vacuum_robot.dist_1.distance > 35"
   ]
  },
  {
   "cell_type": "code",
   "execution_count": null,
   "metadata": {
    "collapsed": true
   },
   "outputs": [],
   "source": [
    "import time\n",
    "\n",
    "while True:\n",
    "    forward()\n",
    "    \n",
    "    if obstacle_right():\n",
    "        turn_left()\n",
    "        time.sleep(1)\n",
    "        stop()\n",
    "        \n",
    "    if obstacle_left():\n",
    "        turn_right()\n",
    "        time.sleep(1)\n",
    "        stop()\n",
    "        \n",
    "    time.sleep(0.3)"
   ]
  },
  {
   "cell_type": "code",
   "execution_count": null,
   "metadata": {
    "collapsed": true
   },
   "outputs": [],
   "source": [
    "stop()"
   ]
  },
  {
   "cell_type": "code",
   "execution_count": null,
   "metadata": {
    "collapsed": true
   },
   "outputs": [],
   "source": []
  }
 ],
 "metadata": {
  "kernelspec": {
   "display_name": "Python 3",
   "language": "python",
   "name": "python3"
  },
  "language_info": {
   "codemirror_mode": {
    "name": "ipython",
    "version": 3
   },
   "file_extension": ".py",
   "mimetype": "text/x-python",
   "name": "python",
   "nbconvert_exporter": "python",
   "pygments_lexer": "ipython3",
   "version": "3.6.1"
  }
 },
 "nbformat": 4,
 "nbformat_minor": 2
}
