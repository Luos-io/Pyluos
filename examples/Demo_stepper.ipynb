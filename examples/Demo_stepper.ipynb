{
 "cells": [
  {
   "cell_type": "code",
   "execution_count": 13,
   "metadata": {
    "collapsed": true
   },
   "outputs": [],
   "source": [
    "from pyluos import Robot"
   ]
  },
  {
   "cell_type": "code",
   "execution_count": 14,
   "metadata": {
    "collapsed": false
   },
   "outputs": [
    {
     "name": "stdout",
     "output_type": "stream",
     "text": [
      "Connected to \"wifi_john.local\".\n",
      "Sending detection signal.\n",
      "Waiting for first state...\n",
      "Robot setup.\n"
     ]
    }
   ],
   "source": [
    "my_gate = Robot('wifi_john.local')"
   ]
  },
  {
   "cell_type": "code",
   "execution_count": null,
   "metadata": {
    "collapsed": false
   },
   "outputs": [],
   "source": [
    "my_gate.modules"
   ]
  },
  {
   "cell_type": "code",
   "execution_count": null,
   "metadata": {
    "collapsed": false
   },
   "outputs": [],
   "source": [
    "## Demo 1 - Controlle en position\n",
    "my_gate.my_stepper.target_speed = 800\n",
    "while True:\n",
    "    my_gate.my_stepper.target_position = my_gate.lidar_john.distance"
   ]
  },
  {
   "cell_type": "code",
   "execution_count": null,
   "metadata": {
    "collapsed": false
   },
   "outputs": [],
   "source": [
    "## Demo 2 - Controlle en vitesse + homing\n",
    "my_gate.my_stepper.home()  # moving until switch is pressed\n",
    "while True:\n",
    "    my_gate.my_stepper.target_speed = my_gate.lidar_john.distance"
   ]
  },
  {
   "cell_type": "code",
   "execution_count": null,
   "metadata": {
    "collapsed": false
   },
   "outputs": [],
   "source": [
    "## Demo 3 - Speed change\n",
    "import time\n",
    "for speed in [200, 400, 600, 800]:\n",
    "    my_gate.my_stepper.target_speed = speed\n",
    "    my_gate.my_stepper.target_position = 0\n",
    "    time.sleep(2)\n",
    "    my_gate.my_stepper.target_position = 200\n",
    "    time.sleep(2)"
   ]
  },
  {
   "cell_type": "code",
   "execution_count": 19,
   "metadata": {
    "collapsed": true
   },
   "outputs": [],
   "source": [
    "my_gate.my_stepper.target_position = 0"
   ]
  },
  {
   "cell_type": "code",
   "execution_count": null,
   "metadata": {
    "collapsed": true
   },
   "outputs": [],
   "source": []
  }
 ],
 "metadata": {
  "kernelspec": {
   "display_name": "Python 3",
   "language": "python",
   "name": "python3"
  },
  "language_info": {
   "codemirror_mode": {
    "name": "ipython",
    "version": 3
   },
   "file_extension": ".py",
   "mimetype": "text/x-python",
   "name": "python",
   "nbconvert_exporter": "python",
   "pygments_lexer": "ipython3",
   "version": "3.6.0"
  }
 },
 "nbformat": 4,
 "nbformat_minor": 2
}
