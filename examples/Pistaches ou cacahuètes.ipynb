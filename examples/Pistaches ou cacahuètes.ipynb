{
 "cells": [
  {
   "cell_type": "code",
   "execution_count": 1,
   "metadata": {},
   "outputs": [],
   "source": [
    "from pyluos import Robot\n",
    "\n",
    "remote = Robot('wifi_phenix.local')\n",
    "dealer = Robot('wifi_pigeon.local')"
   ]
  },
  {
   "cell_type": "code",
   "execution_count": 2,
   "metadata": {},
   "outputs": [],
   "source": [
    "def selection(event):\n",
    "    pos = event.new_value\n",
    "    \n",
    "    if 30 <= pos <= 70:\n",
    "        remote.led_techno.color = (0, 0, 0)\n",
    "        dealer.motor_zeus.position = 90\n",
    "    \n",
    "    if pos < 30:\n",
    "        remote.led_techno.color = (255, 100, 0)\n",
    "        dealer.motor_zeus.position = 150\n",
    "    \n",
    "    if pos > 70:\n",
    "        remote.led_techno.color = (0, 30, 0)\n",
    "        dealer.motor_zeus.position = 30\n",
    "        \n",
    "remote.potard_kiwi.add_callback('moved', selection)"
   ]
  },
  {
   "cell_type": "code",
   "execution_count": null,
   "metadata": {
    "collapsed": true
   },
   "outputs": [],
   "source": []
  }
 ],
 "metadata": {
  "kernelspec": {
   "display_name": "Python 3",
   "language": "python",
   "name": "python3"
  },
  "language_info": {
   "codemirror_mode": {
    "name": "ipython",
    "version": 3
   },
   "file_extension": ".py",
   "mimetype": "text/x-python",
   "name": "python",
   "nbconvert_exporter": "python",
   "pygments_lexer": "ipython3",
   "version": "3.6.1"
  }
 },
 "nbformat": 4,
 "nbformat_minor": 2
}
